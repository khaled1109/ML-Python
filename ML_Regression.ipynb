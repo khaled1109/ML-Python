{
 "cells": [
  {
   "cell_type": "code",
   "execution_count": 1,
   "id": "4e1b7966",
   "metadata": {},
   "outputs": [
    {
     "name": "stdout",
     "output_type": "stream",
     "text": [
      "SVC predict[0.5,0.8] :  [-0.66959266]\n",
      "SVC predict[8.5,10] :  [1.51415098]\n"
     ]
    },
    {
     "data": {
      "image/png": "[encoded data removed]",
      "text/plain": [
       "<Figure size 432x288 with 1 Axes>"
      ]
     },
     "metadata": {},
     "output_type": "display_data"
    }
   ],
   "source": [
    "import numpy as np\n",
    "import matplotlib.pyplot as plt\n",
    "from sklearn import svm\n",
    "from matplotlib import style\n",
    "style.use(\"ggplot\")\n",
    "\n",
    "my_input = np.array([[3,2],\n",
    "            [6,6],\n",
    "            [2.6,3],\n",
    "            [7,8],\n",
    "            [3.5,5],\n",
    "            [6,11]])\n",
    "\n",
    "my_output = [0,1,0,1,0,1]\n",
    "\n",
    "my_model = svm.SVR(kernel='linear', C = 1.0)\n",
    "my_model.fit(my_input, my_output)\n",
    "\n",
    "print(\"SVC predict[0.5,0.8] : \",my_model.predict([[0.5,0.8]]))\n",
    "print(\"SVC predict[8.5,10] : \",my_model.predict([[8.5,10]]))\n",
    "plt.scatter(my_input[:, 0], my_input[:, 1], c = my_output)\n",
    "plt.scatter(0.5,0.8, c = 'r')\n",
    "plt.scatter(0.5,10, c = 'r')\n",
    "plt.show()"
   ]
  },
  {
   "cell_type": "code",
   "execution_count": null,
   "id": "400488f1",
   "metadata": {},
   "outputs": [],
   "source": []
  }
 ],
 "metadata": {
  "kernelspec": {
   "display_name": "Python 3 (ipykernel)",
   "language": "python",
   "name": "python3"
  },
  "language_info": {
   "codemirror_mode": {
    "name": "ipython",
    "version": 3
   },
   "file_extension": ".py",
   "mimetype": "text/x-python",
   "name": "python",
   "nbconvert_exporter": "python",
   "pygments_lexer": "ipython3",
   "version": "3.9.12"
  }
 },
 "nbformat": 4,
 "nbformat_minor": 5
}
